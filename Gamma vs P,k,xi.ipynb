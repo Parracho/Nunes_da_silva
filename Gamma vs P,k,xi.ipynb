{
 "cells": [
  {
   "cell_type": "code",
   "execution_count": 28,
   "id": "84f40ec6",
   "metadata": {},
   "outputs": [],
   "source": [
    "import numpy as np\n",
    "import matplotlib.pyplot as plt"
   ]
  },
  {
   "cell_type": "code",
   "execution_count": 54,
   "id": "4c9d071a",
   "metadata": {},
   "outputs": [],
   "source": [
    "eta=1.454;\n",
    "chi=2.0;\n",
    "epsilon=0.25;\n",
    "xi=0.4;\n",
    "ki=0;\n",
    "kf=2;\n",
    "xi0=0;\n",
    "xif=1;\n",
    "Pi=0;\n",
    "Pf=1;\n",
    "dx=0.01;\n",
    "dvar=0.5;\n",
    "Pc=1/(eta+1);\n",
    "P=0.4"
   ]
  },
  {
   "cell_type": "code",
   "execution_count": 55,
   "id": "c52beea4",
   "metadata": {},
   "outputs": [],
   "source": [
    "def lists(string,d):\n",
    "    if string==\"k\":\n",
    "        l=np.arange(ki,kf+d,d)\n",
    "    elif string==\"xi\":\n",
    "        l=np.arange(xi0,xif+d,d)\n",
    "    elif string==\"P\":\n",
    "        l=np.arange(Pi,Pf+d,d)\n",
    "    return l"
   ]
  },
  {
   "cell_type": "code",
   "execution_count": 56,
   "id": "aa93f6f3",
   "metadata": {},
   "outputs": [],
   "source": [
    "def v0(P):\n",
    "    if P>Pc:\n",
    "        v0=1+(xi*np.pi*(1-epsilon*chi**2)-(1-P))/(eta*P)\n",
    "    else:\n",
    "        v0=0\n",
    "    return v0"
   ]
  },
  {
   "cell_type": "code",
   "execution_count": 57,
   "id": "be155db7",
   "metadata": {},
   "outputs": [],
   "source": [
    "def graf_lists(var,xstring,varstring,nonvar):\n",
    "    xlist=[];\n",
    "    gamma=[];\n",
    "    for x in list(xstring,dx):\n",
    "        globals()[xstring]=x\n",
    "        globals()[varstring]=var\n",
    "        globals()[nonvar]=nonvar\n",
    "        xlist.append(x)\n",
    "        Gamma=-(1-P)+eta*P*(1-2*v0(P))+xi*np.pi*(np.exp(-k**2/4)-epsilon*chi**2*np.exp(-(k*chi)**2/4))\n",
    "        gamma.append(Gamma)\n",
    "    return xlist,gamma"
   ]
  },
  {
   "cell_type": "code",
   "execution_count": 58,
   "id": "7ea6e57c",
   "metadata": {},
   "outputs": [],
   "source": [
    "def graf(var,varstring,xstring,xi,k,P):\n",
    "    if xstring==\"xi\":\n",
    "        if varstring==\"P\":\n",
    "            nonvar=k\n",
    "            return graf_lists(var,xstring,varstring,nonvar)\n",
    "        elif varstring==\"k\":\n",
    "            nonvar=P\n",
    "            return graf_lists(var,xstring,varstring,nonvar)\n",
    "    elif xstring==\"P\":\n",
    "        if varstring==\"xi\":\n",
    "            nonvar=k\n",
    "            return graf_lists(var,xstring,varstring,nonvar)\n",
    "        elif varstring==\"k\":\n",
    "            nonvar=xi\n",
    "            return graf_lists(var,xstring,varstring,nonvar)\n",
    "    elif xstring==\"k\":\n",
    "        if varstring==\"P\":\n",
    "            nonvar=xi\n",
    "            return graf_lists(var,xstring,varstring,nonvar)\n",
    "        elif varstring==\"xi\":\n",
    "            nonvar=P\n",
    "            return graf_lists(var,xstring,varstring,nonvar)"
   ]
  },
  {
   "cell_type": "code",
   "execution_count": 64,
   "id": "5bc3264d",
   "metadata": {},
   "outputs": [
    {
     "data": {
      "image/png": "[encoded data removed]",
      "text/plain": [
       "<Figure size 432x288 with 1 Axes>"
      ]
     },
     "metadata": {
      "needs_background": "light"
     },
     "output_type": "display_data"
    }
   ],
   "source": [
    "varstring=\"P\"\n",
    "xstring=\"k\"\n",
    "for var in lists(varstring,dvar):\n",
    "    xlist, gamma=graf(var,varstring,xstring,xi,k,P)\n",
    "    plt.plot(xlist,gamma,label='{}={}'.format(varstring,var),rasterized=True)\n",
    "plt.legend()\n",
    "plt.axhline(y=0, color='k', ls='dashed', lw=1)\n",
    "plt.xlabel(xstring)\n",
    "plt.ylabel('$\\gamma$')\n",
    "plt.show()"
   ]
  }
 ],
 "metadata": {
  "hide_input": false,
  "kernelspec": {
   "display_name": "Python 3.9.7 ('base')",
   "language": "python",
   "name": "python3"
  },
  "language_info": {
   "codemirror_mode": {
    "name": "ipython",
    "version": 3
   },
   "file_extension": ".py",
   "mimetype": "text/x-python",
   "name": "python",
   "nbconvert_exporter": "python",
   "pygments_lexer": "ipython3",
   "version": "3.9.7"
  },
  "toc": {
   "base_numbering": 1,
   "nav_menu": {},
   "number_sections": true,
   "sideBar": true,
   "skip_h1_title": false,
   "title_cell": "Table of Contents",
   "title_sidebar": "Contents",
   "toc_cell": false,
   "toc_position": {},
   "toc_section_display": true,
   "toc_window_display": false
  },
  "varInspector": {
   "cols": {
    "lenName": 16,
    "lenType": 16,
    "lenVar": 40
   },
   "kernels_config": {
    "python": {
     "delete_cmd_postfix": "",
     "delete_cmd_prefix": "del ",
     "library": "var_list.py",
     "varRefreshCmd": "print(var_dic_list())"
    },
    "r": {
     "delete_cmd_postfix": ") ",
     "delete_cmd_prefix": "rm(",
     "library": "var_list.r",
     "varRefreshCmd": "cat(var_dic_list()) "
    }
   },
   "types_to_exclude": [
    "module",
    "function",
    "builtin_function_or_method",
    "instance",
    "_Feature"
   ],
   "window_display": false
  },
  "vscode": {
   "interpreter": {
    "hash": "ec2da71c61919751a851f73dfe7e0e3542eb50b8dea2d564ec5cb62b16d72148"
   }
  }
 },
 "nbformat": 4,
 "nbformat_minor": 5
}
